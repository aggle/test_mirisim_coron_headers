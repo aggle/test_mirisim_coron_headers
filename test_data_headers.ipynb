{
 "cells": [
  {
   "cell_type": "markdown",
   "id": "ed100fa5-6767-4f94-8961-1f82fd2849aa",
   "metadata": {},
   "source": [
    "# Data Header Testing Notebook\n",
    "\n",
    "In the cell below, fill out the list of MIRISim output files you want to test. Then run the notebook to find out what's missing!"
   ]
  },
  {
   "cell_type": "code",
   "execution_count": 1,
   "id": "83a842e6-9d11-4b0a-8322-12ee9fe8b92e",
   "metadata": {},
   "outputs": [],
   "source": [
    "from pathlib import Path"
   ]
  },
  {
   "cell_type": "code",
   "execution_count": 2,
   "id": "3a895654-cee1-491d-8859-5d0630574834",
   "metadata": {},
   "outputs": [],
   "source": [
    "data_files = [Path(\"/Users/jaguilar/Projects/mirisim/vega_data/Vega_MIRISim_Coron_Simulations_v0/Vega_F1550C_Roll1/20210521_081914_mirisim_vega_stardisk_star16Jy_roll1_v0/det_images/Vega_Roll1_v0_det_image_seq1_MIRIMAGE_F1550Cexp1.fits\"),\n",
    "              Path(\"/Users/jaguilar/Projects/mirisim/vega_data/Vega_MIRISim_Coron_Simulations_v0/Vega_F1550C_Roll2/20210521_084320_mirisim_vega_stardisk_star16Jy_roll2_v0/det_images/Vega_Roll2_v0_det_image_seq1_MIRIMAGE_F1550Cexp1.fits\"),\n",
    "             ]\n",
    "psf_path = Path(\"/Users/jaguilar/Projects/mirisim/vega_data/Vega_MIRISim_Coron_Simulations_v0/Vega_PSF_Ref_F1550C_piHer/\")\n",
    "psf_files = [list((p / \"det_images\").glob(\"*fits\"))[0] for p in psf_path.glob(\"*SGD[0-9]\")]\n",
    "data_files += psf_files"
   ]
  },
  {
   "cell_type": "markdown",
   "id": "f82ebad7-0156-449d-9a39-438ab5facff4",
   "metadata": {},
   "source": [
    "## Tests\n",
    "\n",
    "Draft of helpful summary information:\n",
    "- a list of which headers are and aren't included\n",
    "- a list of which keywords are and aren't included, by header\n",
    "- a list of whick keywords have improper values"
   ]
  },
  {
   "cell_type": "code",
   "execution_count": 3,
   "id": "60e534b7-27e5-4d42-be0a-c627b698f310",
   "metadata": {},
   "outputs": [],
   "source": [
    "from importlib import reload\n",
    "import test_miri_coron_kwds as tmck"
   ]
  },
  {
   "cell_type": "code",
   "execution_count": 119,
   "id": "616bc9ef-3f56-41a6-a69a-f740db1573b7",
   "metadata": {},
   "outputs": [],
   "source": [
    "reload(tmck)\n",
    "\n",
    "TK = tmck.TestKwds(data_files)"
   ]
  },
  {
   "cell_type": "code",
   "execution_count": 123,
   "id": "9e869f4b-abf4-450e-b1e6-707070561ab5",
   "metadata": {
    "tags": []
   },
   "outputs": [
    {
     "name": "stdout",
     "output_type": "stream",
     "text": [
      "\n",
      "Vega_Roll2_v0_det_image_seq1_MIRIMAGE_F1550Cexp1.fits\n",
      "\n",
      "Active file changed; loading new headers\n",
      "\n",
      "\n",
      "Testing PRIMARY\n",
      "45/211 expected keywords were found.\n",
      "The following keywords *do* exist:\n",
      "     ACT_ID   CCCSTATE   CORONMSK   DATE-OBS\n",
      "   TARG_DEC   DETECTOR   DURATION     EXPEND\n",
      "   EXPOSURE   EFFEXPTM     EXTEND   FASTAXIS\n",
      "   FILENAME   FILETYPE     FILTER     TFRAME\n",
      "     TGROUP   GROUPGAP   DATAMODL    NFRAMES\n",
      "    NGROUPS      NINTS    NRESETS   NSAMPLES\n",
      "     OBS_ID   OBSERVTN     ORIGIN    PROGRAM\n",
      "    TARG_RA   READPATT    TSAMPLE     SEQ_ID\n",
      "     SIMPLE   SLOWAXIS   EXPSTART   TELESCOP\n",
      "   TIMEUNIT   VISITGRP   VISIT_ID      VISIT\n",
      "   SUBSIZE1   SUBSTRT1   SUBSIZE2   SUBSTRT2\n",
      "   ZEROFRAM                                 \n",
      "\n",
      "The following keywords *do not* exist:\n",
      "     ACT_ID   CCCSTATE   CORONMSK   DATE-OBS\n",
      "   TARG_DEC   DETECTOR   DURATION     EXPEND\n",
      "   EXPOSURE   EFFEXPTM     EXTEND   FASTAXIS\n",
      "   FILENAME   FILETYPE     FILTER     TFRAME\n",
      "     TGROUP   GROUPGAP   DATAMODL    NFRAMES\n",
      "    NGROUPS      NINTS    NRESETS   NSAMPLES\n",
      "     OBS_ID   OBSERVTN     ORIGIN    PROGRAM\n",
      "    TARG_RA   READPATT    TSAMPLE     SEQ_ID\n",
      "     SIMPLE   SLOWAXIS   EXPSTART   TELESCOP\n",
      "   TIMEUNIT   VISITGRP   VISIT_ID      VISIT\n",
      "   SUBSIZE1   SUBSTRT1   SUBSIZE2   SUBSTRT2\n",
      "   ZEROFRAM                                 \n",
      "\n",
      "\n",
      "Testing SCI\n",
      "37/78 expected keywords were found.\n",
      "The following keywords *do* exist:\n",
      "     BITPIX      BUNIT     CDELT1     CDELT2\n",
      "     CRPIX1     CRPIX2     CRVAL1     CRVAL2\n",
      "     CTYPE1     CTYPE2     CUNIT1     CUNIT2\n",
      "    DEC_REF     DEC_V1   XTENSION     EXTVER\n",
      "     GCOUNT     NAXIS1     NAXIS2     NAXIS3\n",
      "     NAXIS4      NAXIS      PA_V3      PC1_1\n",
      "      PC1_2      PC2_1      PC2_2     PCOUNT\n",
      "     RA_REF      RA_V1   ROLL_REF    EXTNAME\n",
      "     V2_REF     V3_REF   V3I_YANG    VPARITY\n",
      "    WCSAXES                                 \n",
      "\n",
      "The following keywords *do not* exist:\n",
      "     BITPIX      BUNIT     CDELT1     CDELT2\n",
      "     CRPIX1     CRPIX2     CRVAL1     CRVAL2\n",
      "     CTYPE1     CTYPE2     CUNIT1     CUNIT2\n",
      "    DEC_REF     DEC_V1   XTENSION     EXTVER\n",
      "     GCOUNT     NAXIS1     NAXIS2     NAXIS3\n",
      "     NAXIS4      NAXIS      PA_V3      PC1_1\n",
      "      PC1_2      PC2_1      PC2_2     PCOUNT\n",
      "     RA_REF      RA_V1   ROLL_REF    EXTNAME\n",
      "     V2_REF     V3_REF   V3I_YANG    VPARITY\n",
      "    WCSAXES                                 \n",
      "\n",
      "\n",
      "No keywords expected for PIXELDQ HDU\n",
      "\n",
      "\n",
      "Testing REFOUT\n",
      "9/11 expected keywords were found.\n",
      "The following keywords *do* exist:\n",
      "    BITPIX   EXTNAME    GCOUNT    NAXIS1\n",
      "    NAXIS2    NAXIS3    NAXIS4     NAXIS\n",
      "    PCOUNT                              \n",
      "\n",
      "The following keywords *do not* exist:\n",
      "    BITPIX   EXTNAME    GCOUNT    NAXIS1\n",
      "    NAXIS2    NAXIS3    NAXIS4     NAXIS\n",
      "    PCOUNT                              \n",
      "\n",
      "\n",
      "No keywords expected for ASDF HDU\n"
     ]
    }
   ],
   "source": [
    "for file in TK.mirisim_files[:1]:\n",
    "    print(f\"\\n{TK.active_file.name}\\n\")\n",
    "    TK.active_file = file\n",
    "    TK.test_all_headers_kwds_exist()"
   ]
  },
  {
   "cell_type": "markdown",
   "id": "4ca859b3-c5b1-4905-a5be-fe51503b8a97",
   "metadata": {},
   "source": [
    "# Keyword lists\n",
    "\n",
    "Any keyword that has a list of values; check that its assigned value is in the list"
   ]
  },
  {
   "cell_type": "code",
   "execution_count": 216,
   "id": "3b98975e-398c-4d99-93a3-d8d1e94bc4ba",
   "metadata": {},
   "outputs": [],
   "source": [
    "reload(tmck)\n",
    "TK = tmck.TestKwds(data_files)"
   ]
  },
  {
   "cell_type": "code",
   "execution_count": 217,
   "id": "51eabf9c-929a-460f-95a3-09268c60aca8",
   "metadata": {
    "tags": []
   },
   "outputs": [
    {
     "name": "stdout",
     "output_type": "stream",
     "text": [
      "5 keywords tested\n",
      "5/5 keywords with acceptable value: \n",
      "     FILTER   DETECTOR   CCCSTATE   READPATT\n",
      "   CORONMSK                                 \n"
     ]
    }
   ],
   "source": [
    "TK.test_kwd_enum_values('PRIMARY')"
   ]
  },
  {
   "cell_type": "code",
   "execution_count": 218,
   "id": "61fd7023-86f5-4fca-b653-b4d0f7e37978",
   "metadata": {},
   "outputs": [
    {
     "name": "stdout",
     "output_type": "stream",
     "text": [
      "Testing PRIMARY\n",
      "5 keywords tested\n",
      "5/5 keywords with acceptable value: \n",
      "     FILTER   DETECTOR   CCCSTATE   READPATT\n",
      "   CORONMSK                                 \n",
      "\n",
      "\n",
      "Testing SCI\n",
      "0 keywords tested\n",
      "\n",
      "\n",
      "Testing PIXELDQ\n",
      "0 keywords tested\n",
      "\n",
      "\n",
      "Testing REFOUT\n",
      "0 keywords tested\n",
      "\n",
      "\n",
      "Testing ASDF\n",
      "0 keywords tested\n",
      "\n",
      "\n"
     ]
    }
   ],
   "source": [
    "TK.test_all_headers_kwds_enum()"
   ]
  },
  {
   "cell_type": "markdown",
   "id": "409f1053-63de-4d4a-ae8d-0eb07427eeca",
   "metadata": {},
   "source": [
    "OK, now do a test for each kind of type\n",
    "\n",
    "Can you do a 2-level groupby for enum and type?\n",
    "For enum, you need to group by the result of a function that returns True if list and False if not a list."
   ]
  },
  {
   "cell_type": "code",
   "execution_count": 246,
   "id": "669da5cb-b3d2-4646-8f41-c8eed9d00506",
   "metadata": {},
   "outputs": [],
   "source": [
    "# here it is! the first level of the groupby is enum or not, the second level is by datatype\n",
    "gb = TK.ref_kwds.groupby([lambda x: isinstance(TK.ref_kwds.loc[x, 'enum'], list), 'type'], axis=0)"
   ]
  },
  {
   "cell_type": "code",
   "execution_count": 247,
   "id": "89ad4cf1-c41c-4d5c-9d2e-c672a514e6ea",
   "metadata": {},
   "outputs": [
    {
     "data": {
      "text/plain": [
       "Index(['calculation', 'default_value', 'description', 'example', 'fits_hdu',\n",
       "       'fits_keyword', 'level', 'misc', 'mode', 'section', 'si', 'source',\n",
       "       'sql_dtype', 'sw_source', 'title', 'type', 'units', 'comment_line',\n",
       "       'destination', 'special_processing', 'enum', 'comments'],\n",
       "      dtype='object')"
      ]
     },
     "execution_count": 247,
     "metadata": {},
     "output_type": "execute_result"
    }
   ],
   "source": [
    "TK.ref_kwds.columns"
   ]
  },
  {
   "cell_type": "code",
   "execution_count": 248,
   "id": "e45881e8-b159-476a-9f92-18eb888596eb",
   "metadata": {},
   "outputs": [],
   "source": [
    "rk = TK.ref_kwds[TK.ref_kwds['enum'].isna()]"
   ]
  },
  {
   "cell_type": "code",
   "execution_count": 257,
   "id": "774cd93e-7848-4505-9bd1-2b118ee1dc09",
   "metadata": {},
   "outputs": [],
   "source": [
    "gb = rk.groupby(['fits_hdu', 'type'])"
   ]
  },
  {
   "cell_type": "code",
   "execution_count": 258,
   "id": "6fdb65ea-c35f-4739-b300-2799ed419b7d",
   "metadata": {},
   "outputs": [
    {
     "data": {
      "text/plain": [
       "dict_keys([('CHEBY', 'string'), ('FOUND_TARGETS', 'int'), ('FOUND_TARGETS', 'string'), ('GROUP', 'string'), ('GROUPDQ', 'integer'), ('GROUPDQ', 'string'), ('INT_TIMES', 'string'), ('MOVING_TARGET_POSITION', 'float'), ('MOVING_TARGET_POSITION', 'string'), ('MSA_TARG_ACQ', 'float'), ('MSA_TARG_ACQ', 'int'), ('MSA_TARG_ACQ', 'string'), ('PRIMARY', 'boolean'), ('PRIMARY', 'float'), ('PRIMARY', 'integer'), ('PRIMARY', 'string'), ('REFOUT', 'float'), ('REFOUT', 'integer'), ('REFOUT', 'string'), ('REMOVED_TARGETS', 'int'), ('REMOVED_TARGETS', 'string'), ('SCI', 'float'), ('SCI', 'integer'), ('SCI', 'string'), ('TARG_ACQ', 'float'), ('TARG_ACQ', 'int'), ('TARG_ACQ', 'string')])"
      ]
     },
     "execution_count": 258,
     "metadata": {},
     "output_type": "execute_result"
    }
   ],
   "source": [
    "gb.groups.keys()"
   ]
  },
  {
   "cell_type": "code",
   "execution_count": 262,
   "id": "f399eda0-5e15-4abb-8a80-93a80418b9b9",
   "metadata": {
    "tags": []
   },
   "outputs": [],
   "source": [
    "sciint = gb.get_group(('SCI', 'integer'))"
   ]
  },
  {
   "cell_type": "code",
   "execution_count": 264,
   "id": "c06f36a8-fd1c-42c8-b16f-2c7ec60fd72d",
   "metadata": {},
   "outputs": [],
   "source": [
    "hdr = TK.active_headers['SCI']"
   ]
  },
  {
   "cell_type": "code",
   "execution_count": 266,
   "id": "64e8a37d-a7b3-4224-aa0e-a763a302d746",
   "metadata": {},
   "outputs": [
    {
     "data": {
      "text/html": [
       "<div>\n",
       "<style scoped>\n",
       "    .dataframe tbody tr th:only-of-type {\n",
       "        vertical-align: middle;\n",
       "    }\n",
       "\n",
       "    .dataframe tbody tr th {\n",
       "        vertical-align: top;\n",
       "    }\n",
       "\n",
       "    .dataframe thead th {\n",
       "        text-align: right;\n",
       "    }\n",
       "</style>\n",
       "<table border=\"1\" class=\"dataframe\">\n",
       "  <thead>\n",
       "    <tr style=\"text-align: right;\">\n",
       "      <th></th>\n",
       "      <th>fits_keyword</th>\n",
       "      <th>type</th>\n",
       "    </tr>\n",
       "  </thead>\n",
       "  <tbody>\n",
       "    <tr>\n",
       "      <th>bitpix_sci_image</th>\n",
       "      <td>BITPIX</td>\n",
       "      <td>integer</td>\n",
       "    </tr>\n",
       "    <tr>\n",
       "      <th>bzero_sci_image</th>\n",
       "      <td>BZERO</td>\n",
       "      <td>integer</td>\n",
       "    </tr>\n",
       "    <tr>\n",
       "      <th>extver_sci_image</th>\n",
       "      <td>EXTVER</td>\n",
       "      <td>integer</td>\n",
       "    </tr>\n",
       "    <tr>\n",
       "      <th>gcount_sci_image</th>\n",
       "      <td>GCOUNT</td>\n",
       "      <td>integer</td>\n",
       "    </tr>\n",
       "    <tr>\n",
       "      <th>naxis1_sci_image</th>\n",
       "      <td>NAXIS1</td>\n",
       "      <td>integer</td>\n",
       "    </tr>\n",
       "    <tr>\n",
       "      <th>naxis2_sci_image</th>\n",
       "      <td>NAXIS2</td>\n",
       "      <td>integer</td>\n",
       "    </tr>\n",
       "    <tr>\n",
       "      <th>naxis3_sci_image</th>\n",
       "      <td>NAXIS3</td>\n",
       "      <td>integer</td>\n",
       "    </tr>\n",
       "    <tr>\n",
       "      <th>naxis4_sci_image</th>\n",
       "      <td>NAXIS4</td>\n",
       "      <td>integer</td>\n",
       "    </tr>\n",
       "    <tr>\n",
       "      <th>naxis_sci_image</th>\n",
       "      <td>NAXIS</td>\n",
       "      <td>integer</td>\n",
       "    </tr>\n",
       "    <tr>\n",
       "      <th>pcount_sci_image</th>\n",
       "      <td>PCOUNT</td>\n",
       "      <td>integer</td>\n",
       "    </tr>\n",
       "    <tr>\n",
       "      <th>spectral_order</th>\n",
       "      <td>SPORDER</td>\n",
       "      <td>integer</td>\n",
       "    </tr>\n",
       "    <tr>\n",
       "      <th>vparity</th>\n",
       "      <td>VPARITY</td>\n",
       "      <td>integer</td>\n",
       "    </tr>\n",
       "    <tr>\n",
       "      <th>wcsaxes</th>\n",
       "      <td>WCSAXES</td>\n",
       "      <td>integer</td>\n",
       "    </tr>\n",
       "  </tbody>\n",
       "</table>\n",
       "</div>"
      ],
      "text/plain": [
       "                 fits_keyword     type\n",
       "bitpix_sci_image       BITPIX  integer\n",
       "bzero_sci_image         BZERO  integer\n",
       "extver_sci_image       EXTVER  integer\n",
       "gcount_sci_image       GCOUNT  integer\n",
       "naxis1_sci_image       NAXIS1  integer\n",
       "naxis2_sci_image       NAXIS2  integer\n",
       "naxis3_sci_image       NAXIS3  integer\n",
       "naxis4_sci_image       NAXIS4  integer\n",
       "naxis_sci_image         NAXIS  integer\n",
       "pcount_sci_image       PCOUNT  integer\n",
       "spectral_order        SPORDER  integer\n",
       "vparity               VPARITY  integer\n",
       "wcsaxes               WCSAXES  integer"
      ]
     },
     "execution_count": 266,
     "metadata": {},
     "output_type": "execute_result"
    }
   ],
   "source": [
    "sciint[['fits_keyword', 'type']]"
   ]
  },
  {
   "cell_type": "code",
   "execution_count": 270,
   "id": "e3ef1320-47f9-482b-9b8f-b75f36512ae0",
   "metadata": {},
   "outputs": [
    {
     "ename": "TypeError",
     "evalue": "isinstance() arg 2 must be a type or tuple of types",
     "output_type": "error",
     "traceback": [
      "\u001b[0;31m---------------------------------------------------------------------------\u001b[0m",
      "\u001b[0;31mTypeError\u001b[0m                                 Traceback (most recent call last)",
      "\u001b[0;32m<ipython-input-270-f490aa6110d6>\u001b[0m in \u001b[0;36m<module>\u001b[0;34m\u001b[0m\n\u001b[1;32m      1\u001b[0m \u001b[0;32mfor\u001b[0m \u001b[0mi\u001b[0m \u001b[0;32min\u001b[0m \u001b[0msciint\u001b[0m\u001b[0;34m[\u001b[0m\u001b[0;34m'fits_keyword'\u001b[0m\u001b[0;34m]\u001b[0m\u001b[0;34m:\u001b[0m\u001b[0;34m\u001b[0m\u001b[0;34m\u001b[0m\u001b[0m\n\u001b[0;32m----> 2\u001b[0;31m     \u001b[0misinstance\u001b[0m\u001b[0;34m(\u001b[0m\u001b[0mhdr\u001b[0m\u001b[0;34m[\u001b[0m\u001b[0mi\u001b[0m\u001b[0;34m]\u001b[0m\u001b[0;34m,\u001b[0m \u001b[0;34m'int'\u001b[0m\u001b[0;34m)\u001b[0m\u001b[0;34m\u001b[0m\u001b[0;34m\u001b[0m\u001b[0m\n\u001b[0m",
      "\u001b[0;31mTypeError\u001b[0m: isinstance() arg 2 must be a type or tuple of types"
     ]
    }
   ],
   "source": [
    "for i in sciint['fits_keyword']:\n",
    "    isinstance(hdr[i], 'int')\n"
   ]
  },
  {
   "cell_type": "code",
   "execution_count": 273,
   "id": "83a2d685-0510-415e-9b4c-4830bdf067f9",
   "metadata": {},
   "outputs": [
    {
     "data": {
      "text/plain": [
       "__main__.integer"
      ]
     },
     "execution_count": 273,
     "metadata": {},
     "output_type": "execute_result"
    }
   ],
   "source": [
    "type('integer', (), {})"
   ]
  },
  {
   "cell_type": "code",
   "execution_count": null,
   "id": "41b1a34e-ab16-46cb-b9a9-43a75f6ac69b",
   "metadata": {},
   "outputs": [],
   "source": []
  }
 ],
 "metadata": {
  "kernelspec": {
   "display_name": "Python [conda env:jwst_validation_notebooks]",
   "language": "python",
   "name": "conda-env-jwst_validation_notebooks-py"
  },
  "language_info": {
   "codemirror_mode": {
    "name": "ipython",
    "version": 3
   },
   "file_extension": ".py",
   "mimetype": "text/x-python",
   "name": "python",
   "nbconvert_exporter": "python",
   "pygments_lexer": "ipython3",
   "version": "3.8.10"
  }
 },
 "nbformat": 4,
 "nbformat_minor": 5
}
