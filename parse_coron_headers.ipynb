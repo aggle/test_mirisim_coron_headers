{
 "cells": [
  {
   "cell_type": "markdown",
   "id": "5e585da2-e80d-43ad-91aa-c0fab87b2d0f",
   "metadata": {},
   "source": [
    "This notebook is used to pull out all the keywords, and their allowed values, that go into the MIRI coronagraphic data. \n",
    "\n",
    "This is defined here: https://archive.stsci.edu/jwst/keyword/latest/MIRICoronagraphKeywordsSchemaMetadata.html (see also https://archive.stsci.edu/jwst/keyword/latest/)\n",
    "\n",
    "All the schema have been downloaded to the folder ./schema_folder. If necessary, you can re-download them using the links above."
   ]
  },
  {
   "cell_type": "code",
   "execution_count": 1,
   "id": "13dae96d-ed17-4dd1-aef2-19a128ad4f9a",
   "metadata": {},
   "outputs": [],
   "source": [
    "import yaml\n",
    "import glob\n",
    "\n",
    "from pathlib import Path"
   ]
  },
  {
   "cell_type": "markdown",
   "id": "3fc55a7e-3282-4beb-84c4-2128f3a45c83",
   "metadata": {},
   "source": [
    "# Get the keywords"
   ]
  },
  {
   "cell_type": "markdown",
   "id": "07a11938-f288-4052-a56f-9b92f45e7dd7",
   "metadata": {},
   "source": [
    "First, load the top-level schema for coronagraphic data that contains *all* the keywords"
   ]
  },
  {
   "cell_type": "code",
   "execution_count": 2,
   "id": "25fa05b3-97db-4193-a192-705b18fa6c65",
   "metadata": {},
   "outputs": [],
   "source": [
    "fname = \"./schema_folder/\"+\"top.miri.coron.schema.json\"\n",
    "with open(fname, 'r') as file:\n",
    "     top_schema = yaml.load(file, Loader=yaml.SafeLoader)"
   ]
  },
  {
   "cell_type": "code",
   "execution_count": 3,
   "id": "93e478da-7551-430f-9df7-6b15e3b89722",
   "metadata": {},
   "outputs": [
    {
     "name": "stdout",
     "output_type": "stream",
     "text": [
      "{'type': 'object', 'title': 'root', 'properties': {'meta': {'title': 'MIRI Coronagraph Keywords Schema Metadata', 'type': 'object', 'properties': {'standard': {'title': 'Standard parameters', 'type': 'object', 'properties': {'$ref': 'standard.schema.json'}}, 'basic': {'title': 'Basic parameters', 'type': 'object', 'properties': {'$ref': 'core.basic.schema.json'}}, 'coordinates': {'title': 'Information about the coordinates in the file', 'type': 'object', 'properties': {'$ref': 'core.coordinates.schema.json'}}, 'program': {'title': 'Programmatic information', 'type': 'object', 'properties': {'$ref': 'core.program.schema.json'}}, 'observation': {'title': 'Observation identifiers', 'type': 'object', 'properties': {'allOf': [{'$ref': 'core.observation.schema.json'}, {'$ref': 'science.observation.schema.json'}, {'$ref': 'core.coron.schema.json'}]}}, 'visit': {'title': 'Visit information', 'type': 'object', 'properties': {'$ref': 'core.visit.schema.json'}}, 'target': {'title': 'Target information', 'type': 'object', 'properties': {'$ref': 'core.target.schema.json'}}, 'instrument': {'title': 'Instrument configuration information', 'type': 'object', 'properties': {'allOf': [{'$ref': 'core.instrument.schema.json'}, {'$ref': 'science.instrument.schema.json'}, {'$ref': 'miri.filter.schema.json'}, {'$ref': 'miri.all.instrument.schema.json'}, {'$ref': 'miri.coron.schema.json'}]}}, 'exposure': {'title': 'Exposure parameters', 'type': 'object', 'properties': {'allOf': [{'$ref': 'science.exposure.schema.json'}, {'$ref': 'core.exposure.schema.json'}]}}, 'association': {'title': 'Association parameters', 'type': 'object', 'properties': {'$ref': 'core.association.schema.json'}}, 'subarray': {'title': 'Subarray parameters', 'type': 'object', 'properties': {'$ref': 'core.subarray.schema.json'}, 'additionalProperties': False}, 'dither': {'title': 'Dither information', 'type': 'object', 'properties': {'allOf': [{'$ref': 'all.dither.schema.json'}, {'$ref': 'miri.coron.dither.schema.json'}]}}, 'ephemeris': {'title': 'JWST ephemeris information', 'type': 'object', 'properties': {'$ref': 'core.ephemeris.schema.json'}}, 'aperture': {'title': 'Aperture information', 'type': 'object', 'properties': {'$ref': 'core.aperture.schema.json'}}, 'velocity_aberration': {'title': 'Velocity aberration correction information', 'type': 'object', 'properties': {'$ref': 'core.velocity_aberration.schema.json'}}, 'time': {'title': 'Time information', 'type': 'object', 'properties': {'$ref': 'core.time.schema.json'}}, 'photometry': {'title': 'Photometry information', 'type': 'object', 'properties': {'$ref': 'core.photometry.schema.json'}}, 'ref_file': {'title': 'Reference file information', 'type': 'object', 'properties': {'$ref': 'core.ref_file.schema.json'}}, 'cal_step': {'title': 'Calibration step information', 'type': 'object', 'properties': {'$ref': 'core.cal_step.schema.json'}}, 'resample': {'title': 'Resampling parameter information', 'type': 'object', 'properties': {'$ref': 'core.resample.schema.json'}}, 'sc_pointing': {'title': 'Spacecraft pointing information', 'type': 'object', 'properties': {'$ref': 'core.sc_pointing.schema.json'}}, 'wcsinfo': {'title': 'WCS parameters', 'type': 'object', 'properties': {'allOf': [{'$ref': 'core.wcs.schema.json'}, {'$ref': 'science.wcs.schema.json'}]}}, 'guidestar': {'title': 'Guide star information', 'type': 'object', 'properties': {'$ref': 'guidestar.schema.json'}}, 'background': {'title': 'Background information', 'type': 'object', 'properties': {'$ref': 'core.background.schema.json'}}, 'refout': {'title': 'refout table extension', 'type': 'object', 'properties': {'$ref': 'miri.basic.schema.json'}}, 'binary_table_extensions': {'title': 'binary table extension', 'type': 'object', 'properties': {'$ref': 'core.table.extensions.schema.json'}}}}}}\n"
     ]
    }
   ],
   "source": [
    "print(top_schema)"
   ]
  },
  {
   "cell_type": "markdown",
   "id": "b9cf5d5e-86e6-4a10-8722-a3e7cbdc77e2",
   "metadata": {},
   "source": [
    "It turns out this file mostly contains references to other files. We'll have to go down the rabbit hole to get to the files where the keywords are actually defined.\n",
    "\n",
    "The way this schema works is if you go to `top_schema['properties']['meta']['properties']`, you get a dictionary where each entry is a \"section\" of the file metadata (e.g. \"Standard\", \"Coordinates\", \"Observation\", \"Program\", \"Aperture\", etc.) and under each section the `'properties'` entry contains a dictionary of references to files. Every schema file is stored as the value of a dictionary with the corresponding key `$ref`.  \n",
    "So basically all you have to do is traverse the json and find all the dictionary keywords `$ref`, and return the value of `dict['$ref']`."
   ]
  },
  {
   "cell_type": "code",
   "execution_count": 4,
   "id": "73daa4bc-b01e-4765-a140-dd604c0f0a1e",
   "metadata": {
    "tags": []
   },
   "outputs": [],
   "source": [
    "subschema_all = top_schema['properties']['meta']['properties']"
   ]
  },
  {
   "cell_type": "code",
   "execution_count": 5,
   "id": "da969a77-88f0-46b2-aaa8-141c2c54c588",
   "metadata": {},
   "outputs": [
    {
     "data": {
      "text/plain": [
       "{'title': 'Instrument configuration information',\n",
       " 'type': 'object',\n",
       " 'properties': {'allOf': [{'$ref': 'core.instrument.schema.json'},\n",
       "   {'$ref': 'science.instrument.schema.json'},\n",
       "   {'$ref': 'miri.filter.schema.json'},\n",
       "   {'$ref': 'miri.all.instrument.schema.json'},\n",
       "   {'$ref': 'miri.coron.schema.json'}]}}"
      ]
     },
     "execution_count": 5,
     "metadata": {},
     "output_type": "execute_result"
    }
   ],
   "source": [
    "# here's an example of a complicated case\n",
    "subschema_all['instrument']"
   ]
  },
  {
   "cell_type": "code",
   "execution_count": 6,
   "id": "d111254a-5046-4aed-b0a6-dad2fd809d4f",
   "metadata": {
    "tags": []
   },
   "outputs": [],
   "source": [
    "def ref_generator(schema_dict):\n",
    "    \" this function traverses the json, looking for `$ref` keywords\"\n",
    "    if not isinstance(schema_dict, dict):\n",
    "        return\n",
    "    for k, v in schema_dict.items():\n",
    "        if k == '$ref':\n",
    "            yield v\n",
    "        elif isinstance(v, dict):\n",
    "            for id_val in ref_generator(v):\n",
    "                yield id_val\n",
    "        elif isinstance(v, list):\n",
    "            for el in v:\n",
    "                for id_val in ref_generator(el):\n",
    "                    yield id_val\n",
    "        else:\n",
    "            pass"
   ]
  },
  {
   "cell_type": "code",
   "execution_count": 7,
   "id": "e44b1b60-575e-4698-8e6b-f4d812d04eb8",
   "metadata": {},
   "outputs": [],
   "source": [
    "files = [i for i in ref_generator(subschema_all)]"
   ]
  },
  {
   "cell_type": "markdown",
   "id": "b4d406ac-fb1e-4b7b-98cf-f9b088cad3d1",
   "metadata": {},
   "source": [
    "Oh no! Some of these files also have their own internal file dependencies. Traverse them all!"
   ]
  },
  {
   "cell_type": "code",
   "execution_count": 8,
   "id": "e6c0ce00-be70-415f-9e12-f53b6a50087e",
   "metadata": {},
   "outputs": [],
   "source": [
    "sub_files = []\n",
    "for file in files:\n",
    "    with open(Path(\"./schema_folder/\") / file) as ff:\n",
    "        schema = yaml.load(ff, yaml.SafeLoader)\n",
    "        sub_files.append([i for i in ref_generator(schema) if i])"
   ]
  },
  {
   "cell_type": "code",
   "execution_count": 9,
   "id": "39fb5dd7-6709-4459-bd70-01eaf27bd98b",
   "metadata": {},
   "outputs": [],
   "source": [
    "from functools import reduce \n",
    "\n",
    "sub_files = reduce(lambda l,m: l+m, [i for i in sub_files if i])\n",
    "files = files + sub_files"
   ]
  },
  {
   "cell_type": "markdown",
   "id": "780f7bc3-317c-4f44-adb6-fe7731b5b057",
   "metadata": {},
   "source": [
    "Finally, we have a list of all the files that store the keywords that go in the headers"
   ]
  },
  {
   "cell_type": "code",
   "execution_count": 10,
   "id": "d9a5cf32-2e3e-41d9-96d9-68e16efe4011",
   "metadata": {},
   "outputs": [
    {
     "name": "stdout",
     "output_type": "stream",
     "text": [
      "There are 43 schema files\n",
      "\n",
      "Schema files:\n",
      "all.dither.schema.json\n",
      "\tcheby.extension.schema.json\n",
      "\tcore.aperture.schema.json\n",
      "\tcore.association.schema.json\n",
      "\tcore.background.schema.json\n",
      "\tcore.basic.schema.json\n",
      "\tcore.cal_step.schema.json\n",
      "\tcore.coordinates.schema.json\n",
      "\tcore.coron.schema.json\n",
      "\tcore.ephemeris.schema.json\n",
      "\tcore.exposure.schema.json\n",
      "\tcore.instrument.schema.json\n",
      "\tcore.observation.schema.json\n",
      "\tcore.photometry.schema.json\n",
      "\tcore.program.schema.json\n",
      "\tcore.ref_file.schema.json\n",
      "\tcore.resample.schema.json\n",
      "\tcore.sc_pointing.schema.json\n",
      "\tcore.subarray.schema.json\n",
      "\tcore.table.extensions.schema.json\n",
      "\tcore.targacq.msa.found.schema.json\n",
      "\tcore.targacq.msa.removed.schema.json\n",
      "\tcore.targacq.msa.schema.json\n",
      "\tcore.target.acquisition.schema.json\n",
      "\tcore.target.schema.json\n",
      "\tcore.time.schema.json\n",
      "\tcore.velocity_aberration.schema.json\n",
      "\tcore.visit.schema.json\n",
      "\tcore.wcs.schema.json\n",
      "\tgroup.extension.schema.json\n",
      "\tguidestar.schema.json\n",
      "\tintegration.extension.schema.json\n",
      "\tmiri.all.instrument.schema.json\n",
      "\tmiri.basic.schema.json\n",
      "\tmiri.coron.dither.schema.json\n",
      "\tmiri.coron.schema.json\n",
      "\tmiri.filter.schema.json\n",
      "\tmoving.extension.schema.json\n",
      "\tscience.exposure.schema.json\n",
      "\tscience.instrument.schema.json\n",
      "\tscience.observation.schema.json\n",
      "\tscience.wcs.schema.json\n",
      "\tstandard.schema.json\n"
     ]
    }
   ],
   "source": [
    "print(f\"There are {len(files)} schema files\\n\")\n",
    "print('Schema files:\\n'+'\\n\\t'.join(sorted(files)))\n"
   ]
  },
  {
   "cell_type": "markdown",
   "id": "1af478f4-337e-4649-a508-7edc740ea6d9",
   "metadata": {},
   "source": [
    "Something I have discovered is that the different files have different structures. However, I think I can still just traverse the json as before, looking for a few keywords and returning those and their corresponding values. The keywords are:\n",
    "- fits_keyword : the keyword that goes in the fits header\n",
    "- enum : the allowed values\n",
    "- type : the datatype of the value\n",
    "- special_processing : not really sure but seems useful?"
   ]
  },
  {
   "cell_type": "code",
   "execution_count": 11,
   "id": "68bd6046-310b-42b6-851e-cd6dbb5fa8d3",
   "metadata": {},
   "outputs": [
    {
     "data": {
      "text/plain": [
       "'standard.schema.json'"
      ]
     },
     "execution_count": 11,
     "metadata": {},
     "output_type": "execute_result"
    }
   ],
   "source": [
    "files[0]"
   ]
  },
  {
   "cell_type": "code",
   "execution_count": 12,
   "id": "5eb3cc2e-2f84-4a0d-a6c4-183ae98d2084",
   "metadata": {},
   "outputs": [],
   "source": [
    "a = set(sorted(schema.keys()))\n",
    "b = set(['title', 'type', 'properties'])"
   ]
  },
  {
   "cell_type": "code",
   "execution_count": 13,
   "id": "c85417db-6629-48d6-8d59-1a632ae6fdd2",
   "metadata": {},
   "outputs": [
    {
     "data": {
      "text/plain": [
       "False"
      ]
     },
     "execution_count": 13,
     "metadata": {},
     "output_type": "execute_result"
    }
   ],
   "source": [
    "a.issubset(b) and b.issubset(a)"
   ]
  },
  {
   "cell_type": "code",
   "execution_count": 14,
   "id": "8c820aa0-7267-46a6-bcb2-a986bae2e1a9",
   "metadata": {},
   "outputs": [],
   "source": [
    "all_kwds = {}\n",
    "for file in files:\n",
    "    with open(Path(\"./schema_folder/\") / file) as ff:\n",
    "        schema = yaml.load(ff, yaml.SafeLoader)\n",
    "    all_kwds.update(schema)"
   ]
  },
  {
   "cell_type": "code",
   "execution_count": 15,
   "id": "f9f541bb-3065-4475-9c04-77746fc0d18b",
   "metadata": {
    "tags": []
   },
   "outputs": [],
   "source": [
    "bad_keys = []\n",
    "for k, v in all_kwds.items():\n",
    "    if 'fits_keyword' not in v:\n",
    "        bad_keys.append(k)\n",
    "for k in bad_keys:\n",
    "    all_kwds.pop(k)\n",
    "# for k, v in all_kwds.items():\n",
    "#     print(k, v['fits_keyword'])"
   ]
  },
  {
   "cell_type": "code",
   "execution_count": 16,
   "id": "787d1051-e8d8-49ed-a5d8-72b9d6a29ef5",
   "metadata": {},
   "outputs": [],
   "source": [
    "with open(\"./all_coron_kwds.json\", 'wt') as ff:\n",
    "    yaml.dump(all_kwds, ff)"
   ]
  },
  {
   "cell_type": "markdown",
   "id": "d5455363-f460-4335-9de9-3bd721ccda93",
   "metadata": {},
   "source": [
    "Now I have all the keywords! Mwahahahahaha. Time to write tests."
   ]
  }
 ],
 "metadata": {
  "kernelspec": {
   "display_name": "Python [conda env:jwst_validation_notebooks]",
   "language": "python",
   "name": "conda-env-jwst_validation_notebooks-py"
  },
  "language_info": {
   "codemirror_mode": {
    "name": "ipython",
    "version": 3
   },
   "file_extension": ".py",
   "mimetype": "text/x-python",
   "name": "python",
   "nbconvert_exporter": "python",
   "pygments_lexer": "ipython3",
   "version": "3.8.10"
  }
 },
 "nbformat": 4,
 "nbformat_minor": 5
}
